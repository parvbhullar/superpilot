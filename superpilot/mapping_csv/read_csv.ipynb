{
 "cells": [
  {
   "cell_type": "code",
   "execution_count": 1,
   "metadata": {},
   "outputs": [],
   "source": [
    "import pandas as pd "
   ]
  },
  {
   "cell_type": "code",
   "execution_count": 2,
   "metadata": {},
   "outputs": [
    {
     "name": "stdout",
     "output_type": "stream",
     "text": [
      "                  Folder          File             Function              Class\n",
      "0                   core  singleton.py             __call__  AbstractSingleton\n",
      "1                   core  singleton.py                  NaN          Singleton\n",
      "2                   core  singleton.py                  NaN  AbstractSingleton\n",
      "3                   core     status.py         print_status             Status\n",
      "4                   core     status.py              display             Status\n",
      "...                  ...           ...                  ...                ...\n",
      "1957  examples/voiceover        dub.py     save_audio_bytes           VoiceDub\n",
      "1958  examples/voiceover        dub.py        text_to_audio           VoiceDub\n",
      "1959  examples/voiceover        dub.py  text_to_audio_clone           VoiceDub\n",
      "1960  examples/voiceover        dub.py                  dub           VoiceDub\n",
      "1961  examples/voiceover        dub.py                  NaN           VoiceDub\n",
      "\n",
      "[1962 rows x 4 columns]\n"
     ]
    }
   ],
   "source": [
    "\n",
    "csv_file = \"project_structure.csv\"\n",
    "\n",
    "# Read the CSV file into a pandas DataFrame\n",
    "df = pd.read_csv(csv_file)\n",
    "\n",
    "# Display the first few rows of the dataset\n",
    "print(df)\n"
   ]
  },
  {
   "cell_type": "code",
   "execution_count": null,
   "metadata": {},
   "outputs": [],
   "source": []
  },
  {
   "cell_type": "code",
   "execution_count": null,
   "metadata": {},
   "outputs": [],
   "source": []
  }
 ],
 "metadata": {
  "kernelspec": {
   "display_name": "myenv",
   "language": "python",
   "name": "python3"
  },
  "language_info": {
   "codemirror_mode": {
    "name": "ipython",
    "version": 3
   },
   "file_extension": ".py",
   "mimetype": "text/x-python",
   "name": "python",
   "nbconvert_exporter": "python",
   "pygments_lexer": "ipython3",
   "version": "3.12.5"
  }
 },
 "nbformat": 4,
 "nbformat_minor": 2
}
