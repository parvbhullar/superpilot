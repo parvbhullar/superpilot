{
 "cells": [
  {
   "cell_type": "code",
   "execution_count": 2,
   "metadata": {},
   "outputs": [],
   "source": [
    "import pandas as pd "
   ]
  },
  {
   "cell_type": "code",
   "execution_count": 3,
   "metadata": {},
   "outputs": [
    {
     "name": "stdout",
     "output_type": "stream",
     "text": [
      "                                   Folder                  File  \\\n",
      "0                                       .                   NaN   \n",
      "1                                       .           __init__.py   \n",
      "2                                       .              setup.py   \n",
      "3                                       .       mapping_data.py   \n",
      "4                                       .         check_file.py   \n",
      "..                                    ...                   ...   \n",
      "396  superpilot/examples/prompt_generator    example_prompts.py   \n",
      "397  superpilot/examples/prompt_generator  midjourney_prompt.py   \n",
      "398  superpilot/examples/prompt_generator     latex_code_gen.py   \n",
      "399         superpilot/examples/voiceover                   NaN   \n",
      "400         superpilot/examples/voiceover                dub.py   \n",
      "\n",
      "                                             Functions  \\\n",
      "0                                                  NaN   \n",
      "1                                                  NaN   \n",
      "2                                                  NaN   \n",
      "3       count_functions, traverse_directory, write_csv   \n",
      "4                                           checkMerge   \n",
      "..                                                 ...   \n",
      "396                                                NaN   \n",
      "397  __init__, model_classification, build_prompt, ...   \n",
      "398  __init__, model_classification, build_prompt, ...   \n",
      "399                                                NaN   \n",
      "400  __init__, initialize_speech_to_text, speech_to...   \n",
      "\n",
      "                                               Classes  \n",
      "0                                                  NaN  \n",
      "1                                                  NaN  \n",
      "2                                                  NaN  \n",
      "3                                                  NaN  \n",
      "4                                                  NaN  \n",
      "..                                                 ...  \n",
      "396                                                NaN  \n",
      "397                  BasePromptModel, MidjourneyPrompt  \n",
      "398  QuestionStatus, QuestionSubject, QuestionType,...  \n",
      "399                                                NaN  \n",
      "400                                           VoiceDub  \n",
      "\n",
      "[401 rows x 4 columns]\n"
     ]
    }
   ],
   "source": [
    "\n",
    "csv_file = \"project_structure.csv\"\n",
    "\n",
    "# Read the CSV file into a pandas DataFrame\n",
    "df = pd.read_csv(csv_file)\n",
    "\n",
    "# Display the first few rows of the dataset\n",
    "print(df)\n"
   ]
  },
  {
   "cell_type": "code",
   "execution_count": null,
   "metadata": {},
   "outputs": [],
   "source": []
  },
  {
   "cell_type": "code",
   "execution_count": null,
   "metadata": {},
   "outputs": [],
   "source": []
  }
 ],
 "metadata": {
  "kernelspec": {
   "display_name": "myenv",
   "language": "python",
   "name": "python3"
  },
  "language_info": {
   "codemirror_mode": {
    "name": "ipython",
    "version": 3
   },
   "file_extension": ".py",
   "mimetype": "text/x-python",
   "name": "python",
   "nbconvert_exporter": "python",
   "pygments_lexer": "ipython3",
   "version": "3.12.5"
  }
 },
 "nbformat": 4,
 "nbformat_minor": 2
}
