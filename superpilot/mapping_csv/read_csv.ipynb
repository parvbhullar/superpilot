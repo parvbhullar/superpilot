{
 "cells": [
  {
   "cell_type": "code",
   "execution_count": 1,
   "metadata": {},
   "outputs": [],
   "source": [
    "import pandas as pd "
   ]
  },
  {
   "cell_type": "code",
   "execution_count": 5,
   "metadata": {},
   "outputs": [
    {
     "name": "stdout",
     "output_type": "stream",
     "text": [
      "                                                Folder  Number of Folders  \\\n",
      "0     /Users/zestgeek31/Desktop/super-pilot/superpilot                  4   \n",
      "1    /Users/zestgeek31/Desktop/super-pilot/superpil...                  0   \n",
      "2    /Users/zestgeek31/Desktop/super-pilot/superpil...                  0   \n",
      "3    /Users/zestgeek31/Desktop/super-pilot/superpil...                  7   \n",
      "4    /Users/zestgeek31/Desktop/super-pilot/superpil...                 15   \n",
      "..                                                 ...                ...   \n",
      "142  /Users/zestgeek31/Desktop/super-pilot/superpil...                  3   \n",
      "143  /Users/zestgeek31/Desktop/super-pilot/superpil...                  0   \n",
      "144  /Users/zestgeek31/Desktop/super-pilot/superpil...                  0   \n",
      "145  /Users/zestgeek31/Desktop/super-pilot/superpil...                  1   \n",
      "146  /Users/zestgeek31/Desktop/super-pilot/superpil...                  0   \n",
      "\n",
      "     Number of Files  Number of Functions  \n",
      "0                  9                    4  \n",
      "1                  4                    0  \n",
      "2                  1                    0  \n",
      "3                  2                    0  \n",
      "4                  3                    3  \n",
      "..               ...                  ...  \n",
      "142                0                    0  \n",
      "143                2                    0  \n",
      "144                0                    0  \n",
      "145                0                    0  \n",
      "146                2                    0  \n",
      "\n",
      "[147 rows x 4 columns]\n"
     ]
    }
   ],
   "source": [
    "\n",
    "csv_file = \"/Users/zestgeek31/Desktop/super-pilot/superpilot/project_structure.csv\"\n",
    "\n",
    "# Read the CSV file into a pandas DataFrame\n",
    "df = pd.read_csv(csv_file)\n",
    "\n",
    "# Display the first few rows of the dataset\n",
    "print(df)\n"
   ]
  },
  {
   "cell_type": "code",
   "execution_count": null,
   "metadata": {},
   "outputs": [],
   "source": []
  },
  {
   "cell_type": "code",
   "execution_count": null,
   "metadata": {},
   "outputs": [],
   "source": []
  }
 ],
 "metadata": {
  "kernelspec": {
   "display_name": "myenv",
   "language": "python",
   "name": "python3"
  },
  "language_info": {
   "codemirror_mode": {
    "name": "ipython",
    "version": 3
   },
   "file_extension": ".py",
   "mimetype": "text/x-python",
   "name": "python",
   "nbconvert_exporter": "python",
   "pygments_lexer": "ipython3",
   "version": "3.12.5"
  }
 },
 "nbformat": 4,
 "nbformat_minor": 2
}
